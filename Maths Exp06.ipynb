{
 "cells": [
  {
   "cell_type": "code",
   "execution_count": 1,
   "metadata": {},
   "outputs": [
    {
     "name": "stdout",
     "output_type": "stream",
     "text": [
      "probability that exactly 4 customers arrive 0.0\n",
      "probability that more than 4 customers arrive 0.97\n",
      " rate of 3 per minute during a time interval of 2 min. 0.03\n"
     ]
    }
   ],
   "source": [
    "import numpy as np\n",
    "import math\n",
    "\n",
    "l=3\n",
    "t=2\n",
    "\n",
    "def p(x):\n",
    "    return round(math.exp(-l*t)*((l*t)*x)/math.factorial(x),2)\n",
    "\n",
    "print(\"probability that exactly 4 customers arrive\",p(4))\n",
    "\n",
    "n=1-(p(0)+p(1)+p(2)+p(3)+p(4))\n",
    "print(\"probability that more than 4 customers arrive\",n)\n",
    "\n",
    "m=p(0)+p(1)+p(2)+p(3)\n",
    "print(\" rate of 3 per minute during a time interval of 2 min.\",m)"
   ]
  }
 ],
 "metadata": {
  "kernelspec": {
   "display_name": "Python 3",
   "language": "python",
   "name": "python3"
  },
  "language_info": {
   "codemirror_mode": {
    "name": "ipython",
    "version": 3
   },
   "file_extension": ".py",
   "mimetype": "text/x-python",
   "name": "python",
   "nbconvert_exporter": "python",
   "pygments_lexer": "ipython3",
   "version": "3.8.5"
  }
 },
 "nbformat": 4,
 "nbformat_minor": 4
}
